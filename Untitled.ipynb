{
 "cells": [
  {
   "cell_type": "code",
   "execution_count": 16,
   "metadata": {},
   "outputs": [],
   "source": [
    "import numpy as np\n",
    "import pandas as pd\n",
    "from sklearn.model_selection import train_test_split\n",
    "from sklearn.linear_model import LogisticRegression\n",
    "from sklearn.datasets import load_digits\n",
    "digits=load_digits()\n",
    "import matplotlib.pyplot as plt\n",
    "import seaborn as sb\n",
    "from sklearn.datasets.samples_generator import make_blobs\n",
    "from sklearn.cluster import KMeans"
   ]
  },
  {
   "cell_type": "code",
   "execution_count": 64,
   "metadata": {},
   "outputs": [
    {
     "data": {
      "text/html": [
       "<div>\n",
       "<style scoped>\n",
       "    .dataframe tbody tr th:only-of-type {\n",
       "        vertical-align: middle;\n",
       "    }\n",
       "\n",
       "    .dataframe tbody tr th {\n",
       "        vertical-align: top;\n",
       "    }\n",
       "\n",
       "    .dataframe thead th {\n",
       "        text-align: right;\n",
       "    }\n",
       "</style>\n",
       "<table border=\"1\" class=\"dataframe\">\n",
       "  <thead>\n",
       "    <tr style=\"text-align: right;\">\n",
       "      <th></th>\n",
       "      <th>Heart</th>\n",
       "      <th>Calories</th>\n",
       "      <th>Steps</th>\n",
       "      <th>Distance</th>\n",
       "      <th>Age</th>\n",
       "      <th>Gender</th>\n",
       "      <th>Weight</th>\n",
       "      <th>Height</th>\n",
       "      <th>Activity</th>\n",
       "    </tr>\n",
       "  </thead>\n",
       "  <tbody>\n",
       "    <tr>\n",
       "      <th>0</th>\n",
       "      <td>60</td>\n",
       "      <td>0.925449</td>\n",
       "      <td>16.789221</td>\n",
       "      <td>14.380363</td>\n",
       "      <td>35</td>\n",
       "      <td>M</td>\n",
       "      <td>179.0</td>\n",
       "      <td>5.6</td>\n",
       "      <td>1.Sedentary</td>\n",
       "    </tr>\n",
       "    <tr>\n",
       "      <th>1</th>\n",
       "      <td>72</td>\n",
       "      <td>0.369344</td>\n",
       "      <td>67.091526</td>\n",
       "      <td>56.945111</td>\n",
       "      <td>35</td>\n",
       "      <td>M</td>\n",
       "      <td>179.0</td>\n",
       "      <td>5.6</td>\n",
       "      <td>1.Sedentary</td>\n",
       "    </tr>\n",
       "    <tr>\n",
       "      <th>2</th>\n",
       "      <td>84</td>\n",
       "      <td>0.313061</td>\n",
       "      <td>67.091526</td>\n",
       "      <td>56.945111</td>\n",
       "      <td>35</td>\n",
       "      <td>M</td>\n",
       "      <td>179.0</td>\n",
       "      <td>5.6</td>\n",
       "      <td>1.Sedentary</td>\n",
       "    </tr>\n",
       "    <tr>\n",
       "      <th>3</th>\n",
       "      <td>96</td>\n",
       "      <td>0.431495</td>\n",
       "      <td>67.091526</td>\n",
       "      <td>56.945111</td>\n",
       "      <td>35</td>\n",
       "      <td>M</td>\n",
       "      <td>179.0</td>\n",
       "      <td>5.6</td>\n",
       "      <td>1.Sedentary</td>\n",
       "    </tr>\n",
       "    <tr>\n",
       "      <th>4</th>\n",
       "      <td>108</td>\n",
       "      <td>0.943021</td>\n",
       "      <td>67.091526</td>\n",
       "      <td>56.945111</td>\n",
       "      <td>35</td>\n",
       "      <td>M</td>\n",
       "      <td>179.0</td>\n",
       "      <td>5.6</td>\n",
       "      <td>1.Sedentary</td>\n",
       "    </tr>\n",
       "  </tbody>\n",
       "</table>\n",
       "</div>"
      ],
      "text/plain": [
       "   Heart  Calories      Steps   Distance  Age Gender  Weight  Height  \\\n",
       "0     60  0.925449  16.789221  14.380363   35      M   179.0     5.6   \n",
       "1     72  0.369344  67.091526  56.945111   35      M   179.0     5.6   \n",
       "2     84  0.313061  67.091526  56.945111   35      M   179.0     5.6   \n",
       "3     96  0.431495  67.091526  56.945111   35      M   179.0     5.6   \n",
       "4    108  0.943021  67.091526  56.945111   35      M   179.0     5.6   \n",
       "\n",
       "      Activity  \n",
       "0  1.Sedentary  \n",
       "1  1.Sedentary  \n",
       "2  1.Sedentary  \n",
       "3  1.Sedentary  \n",
       "4  1.Sedentary  "
      ]
     },
     "execution_count": 64,
     "metadata": {},
     "output_type": "execute_result"
    }
   ],
   "source": [
    "dtset=pd.read_csv('AppleWatch.csv')\n",
    "dtset.head()"
   ]
  },
  {
   "cell_type": "code",
   "execution_count": 37,
   "metadata": {},
   "outputs": [
    {
     "data": {
      "text/plain": [
       "Heart       0\n",
       "Calories    0\n",
       "Steps       0\n",
       "Distance    0\n",
       "Age         0\n",
       "Gender      0\n",
       "Weight      0\n",
       "Height      0\n",
       "Activity    0\n",
       "dtype: int64"
      ]
     },
     "execution_count": 37,
     "metadata": {},
     "output_type": "execute_result"
    }
   ],
   "source": [
    "dtset.isnull().sum()"
   ]
  },
  {
   "cell_type": "code",
   "execution_count": 68,
   "metadata": {},
   "outputs": [
    {
     "data": {
      "text/html": [
       "<div>\n",
       "<style scoped>\n",
       "    .dataframe tbody tr th:only-of-type {\n",
       "        vertical-align: middle;\n",
       "    }\n",
       "\n",
       "    .dataframe tbody tr th {\n",
       "        vertical-align: top;\n",
       "    }\n",
       "\n",
       "    .dataframe thead th {\n",
       "        text-align: right;\n",
       "    }\n",
       "</style>\n",
       "<table border=\"1\" class=\"dataframe\">\n",
       "  <thead>\n",
       "    <tr style=\"text-align: right;\">\n",
       "      <th></th>\n",
       "      <th>Heart</th>\n",
       "      <th>Calories</th>\n",
       "      <th>Steps</th>\n",
       "      <th>Distance</th>\n",
       "      <th>Age</th>\n",
       "      <th>Gender</th>\n",
       "      <th>Weight</th>\n",
       "      <th>Height</th>\n",
       "      <th>Activity</th>\n",
       "    </tr>\n",
       "  </thead>\n",
       "  <tbody>\n",
       "    <tr>\n",
       "      <th>0</th>\n",
       "      <td>60</td>\n",
       "      <td>0.925449</td>\n",
       "      <td>16.789221</td>\n",
       "      <td>14.380363</td>\n",
       "      <td>35</td>\n",
       "      <td>0</td>\n",
       "      <td>179.0</td>\n",
       "      <td>5.6</td>\n",
       "      <td>1.Sedentary</td>\n",
       "    </tr>\n",
       "    <tr>\n",
       "      <th>1</th>\n",
       "      <td>72</td>\n",
       "      <td>0.369344</td>\n",
       "      <td>67.091526</td>\n",
       "      <td>56.945111</td>\n",
       "      <td>35</td>\n",
       "      <td>0</td>\n",
       "      <td>179.0</td>\n",
       "      <td>5.6</td>\n",
       "      <td>1.Sedentary</td>\n",
       "    </tr>\n",
       "    <tr>\n",
       "      <th>2</th>\n",
       "      <td>84</td>\n",
       "      <td>0.313061</td>\n",
       "      <td>67.091526</td>\n",
       "      <td>56.945111</td>\n",
       "      <td>35</td>\n",
       "      <td>0</td>\n",
       "      <td>179.0</td>\n",
       "      <td>5.6</td>\n",
       "      <td>1.Sedentary</td>\n",
       "    </tr>\n",
       "    <tr>\n",
       "      <th>3</th>\n",
       "      <td>96</td>\n",
       "      <td>0.431495</td>\n",
       "      <td>67.091526</td>\n",
       "      <td>56.945111</td>\n",
       "      <td>35</td>\n",
       "      <td>0</td>\n",
       "      <td>179.0</td>\n",
       "      <td>5.6</td>\n",
       "      <td>1.Sedentary</td>\n",
       "    </tr>\n",
       "    <tr>\n",
       "      <th>4</th>\n",
       "      <td>108</td>\n",
       "      <td>0.943021</td>\n",
       "      <td>67.091526</td>\n",
       "      <td>56.945111</td>\n",
       "      <td>35</td>\n",
       "      <td>0</td>\n",
       "      <td>179.0</td>\n",
       "      <td>5.6</td>\n",
       "      <td>1.Sedentary</td>\n",
       "    </tr>\n",
       "  </tbody>\n",
       "</table>\n",
       "</div>"
      ],
      "text/plain": [
       "   Heart  Calories      Steps   Distance  Age  Gender  Weight  Height  \\\n",
       "0     60  0.925449  16.789221  14.380363   35       0   179.0     5.6   \n",
       "1     72  0.369344  67.091526  56.945111   35       0   179.0     5.6   \n",
       "2     84  0.313061  67.091526  56.945111   35       0   179.0     5.6   \n",
       "3     96  0.431495  67.091526  56.945111   35       0   179.0     5.6   \n",
       "4    108  0.943021  67.091526  56.945111   35       0   179.0     5.6   \n",
       "\n",
       "      Activity  \n",
       "0  1.Sedentary  \n",
       "1  1.Sedentary  \n",
       "2  1.Sedentary  \n",
       "3  1.Sedentary  \n",
       "4  1.Sedentary  "
      ]
     },
     "execution_count": 68,
     "metadata": {},
     "output_type": "execute_result"
    }
   ],
   "source": [
    "dtset['Gender']=dtset['Gender'].map({'M':0, 'F':1})\n",
    "dtset.head()"
   ]
  },
  {
   "cell_type": "code",
   "execution_count": 69,
   "metadata": {},
   "outputs": [
    {
     "data": {
      "text/html": [
       "<div>\n",
       "<style scoped>\n",
       "    .dataframe tbody tr th:only-of-type {\n",
       "        vertical-align: middle;\n",
       "    }\n",
       "\n",
       "    .dataframe tbody tr th {\n",
       "        vertical-align: top;\n",
       "    }\n",
       "\n",
       "    .dataframe thead th {\n",
       "        text-align: right;\n",
       "    }\n",
       "</style>\n",
       "<table border=\"1\" class=\"dataframe\">\n",
       "  <thead>\n",
       "    <tr style=\"text-align: right;\">\n",
       "      <th></th>\n",
       "      <th>Heart</th>\n",
       "      <th>Calories</th>\n",
       "      <th>Steps</th>\n",
       "      <th>Distance</th>\n",
       "      <th>Age</th>\n",
       "      <th>Gender</th>\n",
       "      <th>Weight</th>\n",
       "      <th>Height</th>\n",
       "      <th>Activity</th>\n",
       "    </tr>\n",
       "  </thead>\n",
       "  <tbody>\n",
       "    <tr>\n",
       "      <th>0</th>\n",
       "      <td>60</td>\n",
       "      <td>0.925449</td>\n",
       "      <td>16.789221</td>\n",
       "      <td>14.380363</td>\n",
       "      <td>35</td>\n",
       "      <td>0</td>\n",
       "      <td>179.0</td>\n",
       "      <td>5.6</td>\n",
       "      <td>1.0</td>\n",
       "    </tr>\n",
       "    <tr>\n",
       "      <th>1</th>\n",
       "      <td>72</td>\n",
       "      <td>0.369344</td>\n",
       "      <td>67.091526</td>\n",
       "      <td>56.945111</td>\n",
       "      <td>35</td>\n",
       "      <td>0</td>\n",
       "      <td>179.0</td>\n",
       "      <td>5.6</td>\n",
       "      <td>1.0</td>\n",
       "    </tr>\n",
       "    <tr>\n",
       "      <th>2</th>\n",
       "      <td>84</td>\n",
       "      <td>0.313061</td>\n",
       "      <td>67.091526</td>\n",
       "      <td>56.945111</td>\n",
       "      <td>35</td>\n",
       "      <td>0</td>\n",
       "      <td>179.0</td>\n",
       "      <td>5.6</td>\n",
       "      <td>1.0</td>\n",
       "    </tr>\n",
       "    <tr>\n",
       "      <th>3</th>\n",
       "      <td>96</td>\n",
       "      <td>0.431495</td>\n",
       "      <td>67.091526</td>\n",
       "      <td>56.945111</td>\n",
       "      <td>35</td>\n",
       "      <td>0</td>\n",
       "      <td>179.0</td>\n",
       "      <td>5.6</td>\n",
       "      <td>1.0</td>\n",
       "    </tr>\n",
       "    <tr>\n",
       "      <th>4</th>\n",
       "      <td>108</td>\n",
       "      <td>0.943021</td>\n",
       "      <td>67.091526</td>\n",
       "      <td>56.945111</td>\n",
       "      <td>35</td>\n",
       "      <td>0</td>\n",
       "      <td>179.0</td>\n",
       "      <td>5.6</td>\n",
       "      <td>1.0</td>\n",
       "    </tr>\n",
       "  </tbody>\n",
       "</table>\n",
       "</div>"
      ],
      "text/plain": [
       "   Heart  Calories      Steps   Distance  Age  Gender  Weight  Height  \\\n",
       "0     60  0.925449  16.789221  14.380363   35       0   179.0     5.6   \n",
       "1     72  0.369344  67.091526  56.945111   35       0   179.0     5.6   \n",
       "2     84  0.313061  67.091526  56.945111   35       0   179.0     5.6   \n",
       "3     96  0.431495  67.091526  56.945111   35       0   179.0     5.6   \n",
       "4    108  0.943021  67.091526  56.945111   35       0   179.0     5.6   \n",
       "\n",
       "   Activity  \n",
       "0       1.0  \n",
       "1       1.0  \n",
       "2       1.0  \n",
       "3       1.0  \n",
       "4       1.0  "
      ]
     },
     "execution_count": 69,
     "metadata": {},
     "output_type": "execute_result"
    }
   ],
   "source": [
    "dtset['Activity']=dtset['Activity'].map({'0.Sleep':0,'1.Sedentary':1,'2.Light':2})\n",
    "dtset.head()"
   ]
  },
  {
   "cell_type": "code",
   "execution_count": 70,
   "metadata": {},
   "outputs": [
    {
     "name": "stdout",
     "output_type": "stream",
     "text": [
      "      Heart  Calories     Steps  Distance       Age     Gender     Weight  \\\n",
      "0 -9.300812 -0.049766 -1.821793  8.020080 -5.589084  -8.561663   9.745663   \n",
      "1 -3.735247 -0.009397 -0.986932 -0.810195 -5.196607  -3.925582   8.224413   \n",
      "2 -7.645930 -1.017345 -0.372608  6.136173 -7.082258  -9.724330   9.282459   \n",
      "3 -3.154945  4.823516 -0.124283  0.904914 -4.479341  -4.627657  11.411734   \n",
      "4 -7.717924 -2.036034 -1.145447  9.168625 -5.710126 -10.187499   9.254949   \n",
      "\n",
      "      Height  Activity  Cluster  \n",
      "0 -10.071349  7.471733        2  \n",
      "1   0.180885 -2.463941        0  \n",
      "2  -7.877561  5.472507        2  \n",
      "3   2.199698 -1.500196        0  \n",
      "4  -8.715487  6.934011        2  \n"
     ]
    }
   ],
   "source": [
    "X, _ =make_blobs(n_samples=300, centers=3,n_features=9)\n",
    "df=pd.DataFrame(X, columns=['Heart','Calories','Steps','Distance','Age','Gender','Weight','Height','Activity'])\n",
    "kmeans=KMeans(n_clusters=4)\n",
    "y=kmeans.fit_predict(df[['Heart','Calories','Steps','Distance','Age','Gender','Weight','Height','Activity']])\n",
    "df['Cluster'] =y\n",
    "print(df.head())"
   ]
  },
  {
   "cell_type": "code",
   "execution_count": 71,
   "metadata": {},
   "outputs": [
    {
     "data": {
      "image/png": "[encoded data removed]",
      "text/plain": [
       "<Figure size 1152x648 with 1 Axes>"
      ]
     },
     "metadata": {},
     "output_type": "display_data"
    }
   ],
   "source": [
    "wcss = []\n",
    "for i in range(1, 11):\n",
    "    kmeans = KMeans(n_clusters=i, init='k-means++', max_iter=300, n_init=10, random_state=0)\n",
    "    kmeans.fit(X)\n",
    "    wcss.append(kmeans.inertia_)\n",
    "plt.plot(range(1, 11), wcss)\n",
    "plt.title('Elbow Method')\n",
    "plt.xlabel('Number of clusters')\n",
    "plt.ylabel('WCSS')\n",
    "plt.show()"
   ]
  },
  {
   "cell_type": "code",
   "execution_count": 50,
   "metadata": {},
   "outputs": [
    {
     "ename": "SyntaxError",
     "evalue": "unexpected EOF while parsing (<ipython-input-50-6be71f489358>, line 6)",
     "output_type": "error",
     "traceback": [
      "\u001b[1;36m  File \u001b[1;32m\"<ipython-input-50-6be71f489358>\"\u001b[1;36m, line \u001b[1;32m6\u001b[0m\n\u001b[1;33m    plt.show(\u001b[0m\n\u001b[1;37m             ^\u001b[0m\n\u001b[1;31mSyntaxError\u001b[0m\u001b[1;31m:\u001b[0m unexpected EOF while parsing\n"
     ]
    }
   ],
   "source": [
    "reduced_data = PCA(n_components=pca_num_components).fit_transform(data)\n",
    "results = pd.DataFrame(reduced_data,columns=['pca1','pca2'])\n",
    "\n",
    "sns.scatterplot(x=\"pca1\", y=\"pca2\", hue=data['clusters'], data=results)\n",
    "plt.title('K-means Clustering with 2 dimensions')\n",
    "plt.show("
   ]
  },
  {
   "cell_type": "code",
   "execution_count": null,
   "metadata": {},
   "outputs": [],
   "source": []
  },
  {
   "cell_type": "code",
   "execution_count": 32,
   "metadata": {},
   "outputs": [
    {
     "data": {
      "image/png": "[encoded data removed]",
      "text/plain": [
       "<Figure size 432x288 with 1 Axes>"
      ]
     },
     "metadata": {
      "needs_background": "light"
     },
     "output_type": "display_data"
    }
   ],
   "source": [
    "wcss = []\n",
    "for i in range(1, 11):\n",
    "    kmeans = KMeans(n_clusters=i, init='k-means++', max_iter=300, n_init=10, random_state=0)\n",
    "    kmeans.fit(X)\n",
    "    wcss.append(kmeans.inertia_)\n",
    "plt.plot(range(1, 11), wcss)\n",
    "plt.title('Elbow Method')\n",
    "plt.xlabel('Number of clusters')\n",
    "plt.ylabel('WCSS')\n",
    "plt.show()"
   ]
  },
  {
   "cell_type": "code",
   "execution_count": 34,
   "metadata": {},
   "outputs": [
    {
     "data": {
      "image/png": "[encoded data removed]",
      "text/plain": [
       "<Figure size 432x288 with 1 Axes>"
      ]
     },
     "metadata": {
      "needs_background": "light"
     },
     "output_type": "display_data"
    }
   ],
   "source": [
    "kmeans=KMeans(n_clusters=4, init='k-means++', max_iter=300,n_init=10,random_state=0)\n",
    "pred_y=kmeans.fit_predict(X)\n",
    "plt.scatter(X[:,0],X[:,1])\n",
    "plt.scatter(kmeans.cluster_centers_[:,0],kmeans.cluster_centers_[:,1], s=300, c='red')\n",
    "plt.show()"
   ]
  },
  {
   "cell_type": "code",
   "execution_count": null,
   "metadata": {},
   "outputs": [],
   "source": []
  }
 ],
 "metadata": {
  "kernelspec": {
   "display_name": "Python 3",
   "language": "python",
   "name": "python3"
  },
  "language_info": {
   "codemirror_mode": {
    "name": "ipython",
    "version": 3
   },
   "file_extension": ".py",
   "mimetype": "text/x-python",
   "name": "python",
   "nbconvert_exporter": "python",
   "pygments_lexer": "ipython3",
   "version": "3.7.3"
  }
 },
 "nbformat": 4,
 "nbformat_minor": 2
}
